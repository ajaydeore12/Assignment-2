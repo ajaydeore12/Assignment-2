{
 "cells": [
  {
   "cell_type": "markdown",
   "metadata": {},
   "source": [
    "1.1  \n",
    " \n",
    "Write a Python Program to implement your own myreduce() function which works exactly like Python's built-in function reduce() "
   ]
  },
  {
   "cell_type": "code",
   "execution_count": 27,
   "metadata": {},
   "outputs": [
    {
     "data": {
      "text/plain": [
       "65"
      ]
     },
     "execution_count": 27,
     "metadata": {},
     "output_type": "execute_result"
    }
   ],
   "source": [
    "#myreduce function for sum of element\n",
    "#from functools import reduce\n",
    "b=[11,12,13,14,15]\n",
    "def myreduce(n1):\n",
    "    sum1=0\n",
    "    for i  in n1:\n",
    "        sum1=sum1+i\n",
    "    return sum1\n",
    "myreduce(b)"
   ]
  },
  {
   "cell_type": "markdown",
   "metadata": {},
   "source": [
    "\n",
    " Write a Python program to implement your own myfilter() function which works exactly like Python's built-in function filter() \n",
    " \n",
    " "
   ]
  },
  {
   "cell_type": "code",
   "execution_count": 31,
   "metadata": {},
   "outputs": [
    {
     "data": {
      "text/plain": [
       "[2, 4, 6, 8]"
      ]
     },
     "execution_count": 31,
     "metadata": {},
     "output_type": "execute_result"
    }
   ],
   "source": [
    "#filter function for even numbers\n",
    "def myfilter(list1):\n",
    "    result=[]\n",
    "    for i in list1:\n",
    "        if i%2==0:\n",
    "            result.append(i)\n",
    "        else:\n",
    "            continue\n",
    "    return result   \n",
    "myfilter(range(1,10))"
   ]
  },
  {
   "cell_type": "markdown",
   "metadata": {},
   "source": [
    "Implement List comprehensions to produce the following lists. \n",
    " \n",
    "Write List comprehensions to produce the following Lists \n",
    " \n",
    "['A', 'C', 'A', 'D', 'G', 'I', ’L’, ‘ D’] \n",
    " \n",
    "['x', 'xx', 'xxx', 'xxxx', 'y', 'yy', 'yyy', 'yyyy', 'z', 'zz', 'zzz', 'zzzz'] \n",
    " \n",
    "['x', 'y', 'z', 'xx', 'yy', 'zz', 'xx', 'yy', 'zz', 'xxxx', 'yyyy', 'zzzz'] \n",
    " "
   ]
  },
  {
   "cell_type": "code",
   "execution_count": 32,
   "metadata": {},
   "outputs": [
    {
     "data": {
      "text/plain": [
       "['A', 'C', 'A', 'D', 'G', 'I', 'L', 'D']"
      ]
     },
     "execution_count": 32,
     "metadata": {},
     "output_type": "execute_result"
    }
   ],
   "source": [
    "str1=\"ACADGILD\"\n",
    "re=[x for x in str1 ]\n",
    "re"
   ]
  },
  {
   "cell_type": "code",
   "execution_count": 38,
   "metadata": {},
   "outputs": [
    {
     "data": {
      "text/plain": [
       "['x', 'xx', 'xxx', 'xxxx', 'y', 'yy', 'yyy', 'yyyy', 'z', 'zz', 'zzz', 'zzzz']"
      ]
     },
     "execution_count": 38,
     "metadata": {},
     "output_type": "execute_result"
    }
   ],
   "source": [
    "str1=\"xyz\"\n",
    "re=[x*i for x in str1 for i in range(1,5)]\n",
    "re"
   ]
  },
  {
   "cell_type": "code",
   "execution_count": 54,
   "metadata": {},
   "outputs": [
    {
     "data": {
      "text/plain": [
       "['x', 'y', 'z', 'xx', 'yy', 'zz', 'xxx', 'yyy', 'zzz', 'xxxx', 'yyyy', 'zzzz']"
      ]
     },
     "execution_count": 54,
     "metadata": {},
     "output_type": "execute_result"
    }
   ],
   "source": [
    "str1=\"xyz\"\n",
    "re=[str1[x]+str1[x]*i for i in range(0,4)  for x in range(0,3)  ]\n",
    "re"
   ]
  },
  {
   "cell_type": "markdown",
   "metadata": {},
   "source": [
    "[[2], [3], [4], [3], [4], [5], [4], [5], [6]] \n",
    " \n",
    "[[2, 3, 4, 5], [3, 4, 5, 6], [4, 5, 6, 7], [5, 6, 7, 8]] \n",
    " \n",
    "[(1, 1), (2, 1), (3, 1), (1, 2), (2, 2), (3, 2), (1, 3), (2, 3), (3, 3)] "
   ]
  },
  {
   "cell_type": "code",
   "execution_count": 58,
   "metadata": {},
   "outputs": [
    {
     "data": {
      "text/plain": [
       "[[2], [3], [4], [3], [4], [5], [4], [5], [6]]"
      ]
     },
     "execution_count": 58,
     "metadata": {},
     "output_type": "execute_result"
    }
   ],
   "source": [
    "re=[[x+j] for x in(2,3,4)for j  in range(0,3)]\n",
    "re"
   ]
  },
  {
   "cell_type": "code",
   "execution_count": 6,
   "metadata": {},
   "outputs": [
    {
     "data": {
      "text/plain": [
       "[[2, 3, 4, 5], [3, 4, 5, 6], [4, 5, 6, 7], [5, 6, 7, 8]]"
      ]
     },
     "execution_count": 6,
     "metadata": {},
     "output_type": "execute_result"
    }
   ],
   "source": [
    "l1=[]\n",
    "re=[[x+j for x in range(2,6)] for j in range(4)]\n",
    "re"
   ]
  },
  {
   "cell_type": "code",
   "execution_count": 7,
   "metadata": {},
   "outputs": [
    {
     "data": {
      "text/plain": [
       "[(1, 1), (2, 1), (3, 1), (1, 2), (2, 2), (3, 2), (1, 3), (2, 3), (3, 3)]"
      ]
     },
     "execution_count": 7,
     "metadata": {},
     "output_type": "execute_result"
    }
   ],
   "source": [
    "re=[(j,i)for i  in range(1,4)for j  in range(1,4)]\n",
    "re"
   ]
  },
  {
   "cell_type": "markdown",
   "metadata": {},
   "source": [
    "Task 2: \n",
    " \n",
    " \n",
    "1.1  \n",
    " \n",
    "Write a Python Program(with class concepts) to find the area of the triangle using the below formula. \n",
    " \n",
    "area = (s*(s-a)*(s-b)*(s-c)) ** 0.5 \n",
    " \n",
    "Function to take the length of the sides of triangle from user should be defined in the parent class and function to calculate the area should be defined in subclass. \n",
    " \n"
   ]
  },
  {
   "cell_type": "code",
   "execution_count": 7,
   "metadata": {},
   "outputs": [
    {
     "name": "stdout",
     "output_type": "stream",
     "text": [
      "enter the length112.3\n",
      "enter the length212\n",
      "enter the length313.5\n",
      "area is 68.17\n"
     ]
    }
   ],
   "source": [
    "l1=float(input(\"enter the length1\"))\n",
    "l2=float(input(\"enter the length2\"))\n",
    "l3=float(input(\"enter the length3\"))\n",
    "class Parent:\n",
    "    def __init__(self,length1,length2,length3):\n",
    "        self.length1=length1\n",
    "        self.length2=length2\n",
    "        self.length3=length3\n",
    "class Child(Parent):\n",
    "    def area(self):\n",
    "        s=(self.length1+self.length2+self.length3)/2\n",
    "        return \"area is %.2f\"%((s*(s-self.length1)*(s-self.length2)*(s-self.length3)) ** 0.5 )\n",
    "        \n",
    "child=Child(l1,l2,l3)\n",
    "print(child.area())"
   ]
  },
  {
   "cell_type": "markdown",
   "metadata": {},
   "source": [
    "1.2 \n",
    " \n",
    "Write a function filter_long_words() that takes a list of words and an integer n and returns the list of words that are longer than n. \n",
    " \n",
    " "
   ]
  },
  {
   "cell_type": "code",
   "execution_count": 11,
   "metadata": {},
   "outputs": [
    {
     "name": "stdout",
     "output_type": "stream",
     "text": [
      "enter the list of word in [][\"ajay\",\"vijay\",\"new\",\"corona\"]\n",
      "enter the integer3\n"
     ]
    },
    {
     "data": {
      "text/plain": [
       "['ajay', 'vijay', 'corona']"
      ]
     },
     "execution_count": 11,
     "metadata": {},
     "output_type": "execute_result"
    }
   ],
   "source": [
    "list1=eval(input(\"enter the list of word in []\"))\n",
    "n=int(input(\"enter the integer\"))\n",
    "result=[]\n",
    "def filter_long_word(list1,n):\n",
    "    for i in list1:\n",
    "        if len(i)>n:\n",
    "            result.append(i)\n",
    "    return result\n",
    "filter_long_word(list1,n)"
   ]
  },
  {
   "cell_type": "markdown",
   "metadata": {},
   "source": [
    "2.1 \n",
    " \n",
    "Write a Python program using function concept that maps  list of words into a list of integers representing the lengths of the corresponding words​. \n",
    " Hint: ​If a list [ ab,cde,erty] is passed on to the python function output should come as [2,3,4] \n",
    " Here 2,3 and 4 are the lengths of the words in the list. "
   ]
  },
  {
   "cell_type": "code",
   "execution_count": 12,
   "metadata": {},
   "outputs": [
    {
     "name": "stdout",
     "output_type": "stream",
     "text": [
      "enter the words seprated by commaajay,new,hitesh,great,coursera\n"
     ]
    },
    {
     "data": {
      "text/plain": [
       "[4, 3, 6, 5, 8]"
      ]
     },
     "execution_count": 12,
     "metadata": {},
     "output_type": "execute_result"
    }
   ],
   "source": [
    "list1=input(\"enter the words seprated by comma\").split(\",\")\n",
    "result=list(map(lambda x:len(x),list1))\n",
    "result\n",
    "    \n",
    "    "
   ]
  },
  {
   "cell_type": "markdown",
   "metadata": {},
   "source": [
    "2.2 \n",
    " \n",
    "Write a Python function which takes a character (i.e. a string of length 1) and returns True if it is a vowel, False otherwise. \n",
    " \n",
    " "
   ]
  },
  {
   "cell_type": "code",
   "execution_count": 13,
   "metadata": {},
   "outputs": [
    {
     "name": "stdout",
     "output_type": "stream",
     "text": [
      "enter charg\n"
     ]
    },
    {
     "data": {
      "text/plain": [
       "False"
      ]
     },
     "execution_count": 13,
     "metadata": {},
     "output_type": "execute_result"
    }
   ],
   "source": [
    "vowels=[\"a\",\"e\",\"i\",\"o\",\"u\",\"A\",\"E\",\"I\",\"O\",\"U\"]\n",
    "def check_char(char):\n",
    "    if char  in vowels:\n",
    "        return True\n",
    "    else:\n",
    "        return False\n",
    "check_char(input(\"enter char\"))"
   ]
  },
  {
   "cell_type": "code",
   "execution_count": null,
   "metadata": {},
   "outputs": [],
   "source": []
  },
  {
   "cell_type": "code",
   "execution_count": null,
   "metadata": {},
   "outputs": [],
   "source": []
  }
 ],
 "metadata": {
  "kernelspec": {
   "display_name": "Python 3",
   "language": "python",
   "name": "python3"
  },
  "language_info": {
   "codemirror_mode": {
    "name": "ipython",
    "version": 3
   },
   "file_extension": ".py",
   "mimetype": "text/x-python",
   "name": "python",
   "nbconvert_exporter": "python",
   "pygments_lexer": "ipython3",
   "version": "3.6.5"
  }
 },
 "nbformat": 4,
 "nbformat_minor": 2
}
